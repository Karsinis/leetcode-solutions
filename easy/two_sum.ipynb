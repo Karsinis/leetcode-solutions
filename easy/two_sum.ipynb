{
 "cells": [
  {
   "cell_type": "markdown",
   "id": "7d18ea46-71be-4081-bcd0-4697e8ef8a65",
   "metadata": {},
   "source": [
    "# **Two Sum** (Easy)\n",
    "---"
   ]
  },
  {
   "cell_type": "markdown",
   "id": "2658e004-3c35-4d0d-be6a-d1532e28a102",
   "metadata": {},
   "source": [
    "## Problem Statement:\n",
    "\n",
    "Given an array of integers nums and an integer target, return indices of the two numbers such that they add up to target.\n",
    "\n",
    "- You may assume that each input would have exactly one solution, and you may not use the same element twice.\n",
    "- You can return the answer in any order.\n",
    "\n",
    "[Two Sum on Leet Code](https://leetcode.com/problems/two-sum/description/)"
   ]
  },
  {
   "cell_type": "code",
   "execution_count": 1,
   "id": "ff283ea1-97e1-4db8-aa73-b96be5959f02",
   "metadata": {},
   "outputs": [],
   "source": [
    "# Initialize Notebook\n",
    "from typing import List # LeetCode utilizes List type\n",
    "\n",
    "# Inputs\n",
    "target = 6\n",
    "nums = [3,2,4]\n",
    "\n",
    "# Solution to given inputs\n",
    "expected_solution = [1,2]"
   ]
  },
  {
   "cell_type": "markdown",
   "id": "1279c0e4-7b79-43e2-aa59-c2efb04aef5f",
   "metadata": {},
   "source": [
    "## Initial Solution"
   ]
  },
  {
   "cell_type": "markdown",
   "id": "e6e673cc-1768-4d54-b431-07695ca901ab",
   "metadata": {},
   "source": [
    "### Brute force: double for loop\n",
    "\n",
    "The problem has a clear and direct solution if a double for loop is implemented. Take each value in the list and check its sum against every other value in the list. Though easy to implement, it was clear even before submission this is not an optimal solution for large list sizes."
   ]
  },
  {
   "cell_type": "code",
   "execution_count": 2,
   "id": "7f2dfead-7096-4d08-9677-716fc761e03a",
   "metadata": {},
   "outputs": [],
   "source": [
    "def twoSum(nums: List[int], target: int) -> List[int]:\n",
    "        \n",
    "        length = len(nums)\n",
    "        for i in range(length):\n",
    "            j = i + 1\n",
    "            while (j <= length -1): # A for loop here would have been better for clarity since the logic in essentially the same\n",
    "                if (nums [i] + nums[j] == target):\n",
    "                    return [i,j]\n",
    "                else:\n",
    "                    j = j + 1 # This line is unessecary since while loops automatically interate"
   ]
  },
  {
   "cell_type": "code",
   "execution_count": 3,
   "id": "081e839a-ccd6-479c-82b7-d9426236635b",
   "metadata": {},
   "outputs": [
    {
     "data": {
      "text/plain": [
       "True"
      ]
     },
     "execution_count": 3,
     "metadata": {},
     "output_type": "execute_result"
    }
   ],
   "source": [
    "twoSum(nums,target) == expected_solution"
   ]
  },
  {
   "cell_type": "markdown",
   "id": "2a816ff4-647f-421c-bab1-b08b508b640a",
   "metadata": {},
   "source": [
    "**Runtime: O(N^2)**\n",
    "This algorithm is inefficient since for each element i it iterates over the remaining elements j\n",
    "\n",
    "**Memory: O(1)**\n",
    "No new structures are created except single variables which do not depend on the size of nums"
   ]
  },
  {
   "cell_type": "markdown",
   "id": "e402e0f1-f0a6-46ad-b90c-1552fbe78644",
   "metadata": {},
   "source": [
    "<hr>"
   ]
  },
  {
   "cell_type": "markdown",
   "id": "dfa11aac-2e65-48b6-8530-7b5b652e2ada",
   "metadata": {},
   "source": [
    "# **Analysis**"
   ]
  },
  {
   "cell_type": "markdown",
   "id": "53a8c9bb-4827-4215-b98c-407ad1272bf7",
   "metadata": {},
   "source": [
    "A better way to reframe this problem which is implemented in both the dicitonary and two pointer solution below, is to understand what we are trying to solve for:<br><br> target = x + y<br><br> Which is the same as<br><br> x = target - y.<br><br> By creating a list of values [target - nums], then comparing that list back to the original nums list, there shold be two values that are equal. Now the problem boils down to finding and returning the appropriate indices of those values (where indices are not reused and satisfy the original ordering of nums)."
   ]
  },
  {
   "cell_type": "markdown",
   "id": "b4cd0b68-b3ae-4b08-acca-b38a81f874c5",
   "metadata": {},
   "source": [
    "## Dictionary Solution"
   ]
  },
  {
   "cell_type": "markdown",
   "id": "d93eff7a-5b80-497e-8d73-d3d9f6a12a55",
   "metadata": {},
   "source": [
    "This solution uses a dictionary (key, value) data structure in order to simplify the lookup of the values of interest."
   ]
  },
  {
   "cell_type": "code",
   "execution_count": 4,
   "id": "185919b3-cb73-4f89-b232-01cf9a28631d",
   "metadata": {},
   "outputs": [],
   "source": [
    "def twoSumDict(nums: List[int], target: int) -> List[int]:\n",
    "        length = len(nums)\n",
    "\n",
    "        # Initialize an empty dict using the constructor\n",
    "        lookup = dict()\n",
    "\n",
    "        # Create a reverse lookup dictionary (value, index)\n",
    "        for i in range(length):\n",
    "            lookup[target - nums[i]] = i \n",
    "\n",
    "        # Go through nums and check if that value is in our dict\n",
    "        for i in range(length):\n",
    "            if nums[i] in lookup and lookup[nums[i]] != i:\n",
    "                return [i, lookup[nums[i]]]"
   ]
  },
  {
   "cell_type": "code",
   "execution_count": 5,
   "id": "38d73199-afab-4d96-986a-4850bbe15747",
   "metadata": {},
   "outputs": [],
   "source": [
    "# Clean implementation of the dict solution to Two Sum, added here for syntax reference only\n",
    "def twoSumDictClean(nums: List[int], target: int) -> List[int]:\n",
    "        seen = {}  # Dictionary to store value:index pairs\n",
    "        for i, num in enumerate(nums):\n",
    "            complement = target - num\n",
    "            if complement in seen:\n",
    "                return [seen[complement], i]\n",
    "            seen[num] = i\n",
    "        return []  # No valid pair found"
   ]
  },
  {
   "cell_type": "code",
   "execution_count": 6,
   "id": "f3c2968c-e7ed-4a4d-b345-2f9d6b4b5d67",
   "metadata": {},
   "outputs": [
    {
     "data": {
      "text/plain": [
       "True"
      ]
     },
     "execution_count": 6,
     "metadata": {},
     "output_type": "execute_result"
    }
   ],
   "source": [
    "twoSumDict(nums,target) == expected_solution"
   ]
  },
  {
   "cell_type": "markdown",
   "id": "145a5493-83d5-4163-a12a-be312be95b1c",
   "metadata": {},
   "source": [
    "**Runtime: O(N)**\n",
    "This interates through nums from beginning to end, checking if nums[i] is in our dictionary\n",
    "\n",
    "**Memory: O(N)**\n",
    "The creation of the lookup dictionary is of size N"
   ]
  },
  {
   "cell_type": "markdown",
   "id": "892ac8ec-7fdb-41ce-a75b-3e6bccfb94ac",
   "metadata": {},
   "source": [
    "## Two Pointer Solution"
   ]
  },
  {
   "cell_type": "markdown",
   "id": "480ae1c6-cfd5-483c-b536-39fe2280332b",
   "metadata": {},
   "source": [
    "This will use pointers (index markers) on each end of a sorted list of our values to converge on the solution which satisfies our target summation"
   ]
  },
  {
   "cell_type": "code",
   "execution_count": 7,
   "id": "986cb3b3-843b-41ee-85ef-41132fe3e9fa",
   "metadata": {},
   "outputs": [],
   "source": [
    "def twoSumPointer(nums: List[int], target: int) -> List[int]:\n",
    "    length = len(nums)\n",
    "\n",
    "    # Create a list of tuples: (num, index)\n",
    "    nums_tuples = list(zip(nums,range(length))) # A cleaner way: nums_tuples = [(num, i) for i, num in enumerate(nums)]\n",
    "\n",
    "    # Sort our tuples based on the value of num\n",
    "    nums_tuples.sort(key=lambda value: value[0])\n",
    "\n",
    "    # Initialize Pointers\n",
    "    i = 0 #Beginning\n",
    "    j = length-1 #End\n",
    "\n",
    "    # Move pointers towards solution until found\n",
    "    while nums_tuples[i][0] + nums_tuples[j][0] != target:\n",
    "        if nums_tuples[i][0] + nums_tuples[j][0] > target:\n",
    "            j = j - 1\n",
    "        else:\n",
    "            i = i + 1 # Instead of i = i + 1, use i += 1 (more Pythonic).\n",
    "\n",
    "    # Using our tuples, return the indices of the nums that satisfied the target summation\n",
    "    return[nums_tuples[i][1], nums_tuples[j][1]]"
   ]
  },
  {
   "cell_type": "code",
   "execution_count": 8,
   "id": "c8d7c406-6c1f-43f8-a4c1-79db84cbc53c",
   "metadata": {},
   "outputs": [
    {
     "data": {
      "text/plain": [
       "True"
      ]
     },
     "execution_count": 8,
     "metadata": {},
     "output_type": "execute_result"
    }
   ],
   "source": [
    "twoSumPointer(nums,target) == expected_solution"
   ]
  },
  {
   "cell_type": "markdown",
   "id": "9adde15b-d8af-4d4c-85e2-887f02f7167a",
   "metadata": {},
   "source": [
    "**Runtime: O(NlogN)**\n",
    "The sorting of our tuples is the highest order runtime operation\n",
    "\n",
    "**Memory: O(N)**\n",
    "The creation of the tuples list is of order N.\n"
   ]
  },
  {
   "cell_type": "markdown",
   "id": "f47decfc-d099-4468-84c1-e91f4866dee8",
   "metadata": {},
   "source": [
    "## Notes and Observations"
   ]
  },
  {
   "cell_type": "markdown",
   "id": "60d13842-f30a-48fb-86b9-d438d669ee78",
   "metadata": {},
   "source": [
    "### Iterating over lists with range()"
   ]
  },
  {
   "cell_type": "code",
   "execution_count": 9,
   "id": "69eca777-3d3e-4b38-9d37-2579245012b4",
   "metadata": {},
   "outputs": [
    {
     "name": "stdout",
     "output_type": "stream",
     "text": [
      "The length of the list [1, 2, 3, 4, 5] is 5\n",
      "\n",
      "Whereas, i iterated using range(len(list)) gives i = 0 1 2 3 4 "
     ]
    }
   ],
   "source": [
    "# Using len() on a list will give the total number of elements in that list\n",
    "list = [1,2,3,4,5]\n",
    "print(f\"The length of the list {list} is {len(list)}\")\n",
    "print(\"\")\n",
    "\n",
    "# Iterating over a list's length using range() function will go from 0 to len(list) -1\n",
    "print(f\"Whereas, i iterated using range(len(list)) gives i =\", end=\" \")\n",
    "for i in range(len(list)):\n",
    "    print(f\"{i}\", end=\" \")"
   ]
  },
  {
   "cell_type": "markdown",
   "id": "cf93dc30-4864-43a9-8019-50ecb0dc97c0",
   "metadata": {},
   "source": [
    "### Typing in Python 3.9+ and Jupyter kernel management"
   ]
  },
  {
   "cell_type": "code",
   "execution_count": 10,
   "id": "e8c84951-1007-4fa9-b353-ff5bdd1abbdf",
   "metadata": {},
   "outputs": [
    {
     "name": "stdout",
     "output_type": "stream",
     "text": [
      "Python version: 3.12.7 | packaged by Anaconda, Inc. | (main, Oct  4 2024, 13:27:36) [GCC 11.2.0]\n",
      "Python executable: /home/jackie/anaconda3/bin/python3.12\n"
     ]
    }
   ],
   "source": [
    "import sys\n",
    "import os\n",
    "print(f\"Python version: {sys.version}\")\n",
    "print(f\"Python executable: {sys.executable}\")"
   ]
  },
  {
   "cell_type": "code",
   "execution_count": 11,
   "id": "49406edc-6441-4637-97e6-a3a061bdc540",
   "metadata": {},
   "outputs": [
    {
     "name": "stdout",
     "output_type": "stream",
     "text": [
      "/home/jackie/anaconda3/bin/python\n"
     ]
    }
   ],
   "source": [
    "# Identify which binary of python is being used by my system according to PATH\n",
    "!which python"
   ]
  },
  {
   "cell_type": "markdown",
   "id": "5ec49983-1ada-43dc-b259-701de22ff1e3",
   "metadata": {},
   "source": [
    "**Bash command displaying which kernels are installed for Jupyter to refer to:**\n",
    "\n",
    "jupyter kernelspec list\n",
    "\n",
    "**Output from my terminal:**\n",
    "\n",
    "Available kernels:\n",
    "  python3    /home/jackie/anaconda3/share/jupyter/kernels/python3\n"
   ]
  },
  {
   "cell_type": "code",
   "execution_count": 12,
   "id": "ad542f91-3920-4df0-99c9-0d34e7242d2a",
   "metadata": {},
   "outputs": [
    {
     "name": "stdout",
     "output_type": "stream",
     "text": [
      "Kernel path before manual fix: /home/jackie/anaconda3/bin/python3\n",
      "Current kernel path after fix: /home/jackie/anaconda3/bin/python3.12\n"
     ]
    }
   ],
   "source": [
    "# Check which path the python executable is actually being used in the kernels.json file Jupyter uses\n",
    "import json\n",
    "with open(\"/home/jackie/anaconda3/share/jupyter/kernels/python3/kernel.json\", \"r\") as f:\n",
    "    kernel_spec = json.load(f)\n",
    "\n",
    "print(\"Kernel path before manual fix: /home/jackie/anaconda3/bin/python3\")\n",
    "print(\"Current kernel path after fix:\", kernel_spec[\"argv\"][0])"
   ]
  },
  {
   "cell_type": "markdown",
   "id": "6f14cb87-ff7c-462b-bf57-af1114ce190d",
   "metadata": {},
   "source": [
    "**Why Does jupyter kernelspec list Show the Correct Name but Use the Wrong Python Path?**\n",
    "\n",
    "Jupyter’s kernel system consists of two separate things:\n",
    "\n",
    "    Kernel Name (jupyter kernelspec list)\n",
    "        This command lists available kernel names, but it does NOT check the actual Python executable inside the kernel.\n",
    "        It just tells you that a \"Python 3\" kernel exists in /home/jackie/anaconda3/share/jupyter/kernels/python3.\n",
    "\n",
    "    Kernel JSON (kernel.json)\n",
    "        This file determines which Python executable Jupyter actually runs.\n",
    "        Even if the kernel name says \"python3\", the actual Python it runs is dictated by the argv field in kernel.json.\n",
    "        In your case, it was incorrectly pointing to ~/something/python instead of ~/something/python3.12.\n",
    "\n",
    "This explains why Jupyter reported Python 3.12 in sys.version but didn't support native typing—it was actually running an older Python binary from an old symlink or a Conda environment."
   ]
  },
  {
   "cell_type": "markdown",
   "id": "bef8a855-f895-4996-b19d-9600f54ccf1f",
   "metadata": {},
   "source": [
    "**SOLUTION: I manually changed the path in kernels.json to the correct python binary.**\n",
    "\n",
    "Kernel path: /home/jackie/anaconda3/bin/python\n",
    "\n",
    "to\n",
    "\n",
    "Kernel path: /home/jackie/anaconda3/bin/python3.12"
   ]
  },
  {
   "cell_type": "code",
   "execution_count": 13,
   "id": "4e152a98-064f-40c1-8cd3-a753a6d1a55f",
   "metadata": {},
   "outputs": [],
   "source": [
    "# Now typing according to Python 3.12 should be recognized:\n",
    "def fa(nums: List[int]) -> List[int]:\n",
    "    return nums"
   ]
  }
 ],
 "metadata": {
  "kernelspec": {
   "display_name": "Python 3 (ipykernel)",
   "language": "python",
   "name": "python3"
  },
  "language_info": {
   "codemirror_mode": {
    "name": "ipython",
    "version": 3
   },
   "file_extension": ".py",
   "mimetype": "text/x-python",
   "name": "python",
   "nbconvert_exporter": "python",
   "pygments_lexer": "ipython3",
   "version": "3.12.7"
  }
 },
 "nbformat": 4,
 "nbformat_minor": 5
}
