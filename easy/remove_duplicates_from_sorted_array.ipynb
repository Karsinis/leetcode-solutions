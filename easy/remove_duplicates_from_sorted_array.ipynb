{
 "cells": [
  {
   "cell_type": "markdown",
   "id": "34d05c95-4136-4f3e-9f1c-bacd16456648",
   "metadata": {},
   "source": [
    "# **Remove Duplicates from Sorted Array** (Easy)\n",
    "---"
   ]
  },
  {
   "cell_type": "markdown",
   "id": "939a5f89-f25d-43f6-b288-46fddab8f04a",
   "metadata": {},
   "source": [
    "## Problem Statement:\n",
    "\n",
    "Given an integer array nums sorted in non-decreasing order, remove the duplicates in-place such that each unique element appears only once. The relative order of the elements should be kept the same. Then return the number of unique elements in nums.\n",
    "\n",
    "Consider the number of unique elements of nums to be k, to get accepted, you need to do the following things:\n",
    "\n",
    "- Change the array nums such that the first k elements of nums contain the unique elements in the order they were present in nums initially. The remaining elements of nums are not important as well as the size of nums.\n",
    "\n",
    "- Return k.\n",
    "\n",
    "\n",
    "[Two Sum on Le](https://leetcode.com/problems/two-sum/description/)"
   ]
  },
  {
   "cell_type": "code",
   "execution_count": 1,
   "id": "9f2a647c-1bd2-40df-820d-a81f88e71911",
   "metadata": {},
   "outputs": [],
   "source": [
    "# Initialize Notebook\n",
    "from typing import List\n",
    "\n",
    "nums = [1,2,2,3,4,4,4,4,10,11,24,24,50,600,2100,2100]\n",
    "\n",
    "expected_solution = 10"
   ]
  },
  {
   "cell_type": "markdown",
   "id": "c22d360b-3634-4983-b152-cb2aa99b6488",
   "metadata": {},
   "source": [
    "## Initial Solution"
   ]
  },
  {
   "cell_type": "markdown",
   "id": "87db847f-5c56-4b04-afc5-1d673c1500ee",
   "metadata": {},
   "source": [
    "### Rewrite Method\n",
    "\n",
    "This solution takes the each unique entry read in the array from top to bottom and utilizes an int k as both a counter of unique entries and as a marker for overwriting the array nums at the index k with the identified unique value."
   ]
  },
  {
   "cell_type": "code",
   "execution_count": 2,
   "id": "01a6e2e4-4ffc-42a1-919d-69cab3ffadfd",
   "metadata": {},
   "outputs": [],
   "source": [
    "def removeDuplicates(nums: List[int]) -> int:\n",
    "    k=1\n",
    "    for i in range(len(nums)-1):\n",
    "        if nums[i] != nums[i+1]:\n",
    "            nums[k] = nums [i+1]\n",
    "            k+=1\n",
    "    return k"
   ]
  },
  {
   "cell_type": "code",
   "execution_count": 3,
   "id": "dd048613-7d34-4d4f-bae6-cea902e46b4b",
   "metadata": {},
   "outputs": [
    {
     "data": {
      "text/plain": [
       "True"
      ]
     },
     "execution_count": 3,
     "metadata": {},
     "output_type": "execute_result"
    }
   ],
   "source": [
    "removeDuplicates(nums) == expected_solution"
   ]
  },
  {
   "cell_type": "markdown",
   "id": "63feef38-cbee-4d49-bd86-b7d42941ad7d",
   "metadata": {},
   "source": [
    "**Runtime: O(N)**\n",
    "This algorithm runs through the list of nums once, comparing the current entry with the subsequent entry\n",
    "\n",
    "**Memory: O(1)**\n",
    "No new structures are created except for a single int k which is does not depend on the size of nums"
   ]
  },
  {
   "cell_type": "markdown",
   "id": "bcc3c7f4-f658-4529-a0df-0db01971a391",
   "metadata": {},
   "source": [
    "Problem Completion Time: 18 minutes"
   ]
  },
  {
   "cell_type": "code",
   "execution_count": null,
   "id": "848421da-facd-4116-b936-f03a3dde629c",
   "metadata": {},
   "outputs": [],
   "source": []
  }
 ],
 "metadata": {
  "kernelspec": {
   "display_name": "Python 3 (ipykernel)",
   "language": "python",
   "name": "python3"
  },
  "language_info": {
   "codemirror_mode": {
    "name": "ipython",
    "version": 3
   },
   "file_extension": ".py",
   "mimetype": "text/x-python",
   "name": "python",
   "nbconvert_exporter": "python",
   "pygments_lexer": "ipython3",
   "version": "3.12.7"
  }
 },
 "nbformat": 4,
 "nbformat_minor": 5
}
