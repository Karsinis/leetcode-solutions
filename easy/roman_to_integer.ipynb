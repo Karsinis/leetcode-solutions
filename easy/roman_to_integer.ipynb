{
 "cells": [
  {
   "cell_type": "markdown",
   "id": "92c00f5d-c909-4866-b5d6-10e40144a8a2",
   "metadata": {},
   "source": [
    "# **Roman to Integer**"
   ]
  },
  {
   "cell_type": "markdown",
   "id": "649304e0-0a27-4b47-b319-1baa90f1702c",
   "metadata": {},
   "source": [
    "Given a (guaranteed) roman numeral, convert it to an integer."
   ]
  },
  {
   "cell_type": "markdown",
   "id": "84e0e33c-66aa-4c8f-a5c0-9e55866bfa67",
   "metadata": {},
   "source": [
    "## Initial Solution"
   ]
  },
  {
   "cell_type": "code",
   "execution_count": 47,
   "id": "7a5c6f36-0ea6-4fba-ba6f-2ee0a3dd2df7",
   "metadata": {},
   "outputs": [],
   "source": [
    "s = 'MXCIV'"
   ]
  },
  {
   "cell_type": "code",
   "execution_count": 48,
   "id": "d696f9c3-72b3-40dd-89d4-2854a702777c",
   "metadata": {},
   "outputs": [],
   "source": [
    "def romanToInt(s: str) -> int:\n",
    "    print(s)\n",
    "    char_to_int = dict(zip(['I', 'V', 'X', 'L', 'C', 'D', 'M'], [1, 5, 10, 50, 100, 500, 1000]))\n",
    "\n",
    "    num = 0\n",
    "    prev = 'O'\n",
    "\n",
    "    for i in range(len(s)-1, -1, -1):\n",
    "        cur = s[i]\n",
    "        if cur == 'I' and (prev == 'V' or prev == 'X'):\n",
    "            num = num - char_to_int[cur]\n",
    "        elif cur == 'X' and (prev == 'L' or prev == 'C'):\n",
    "            num = num - char_to_int[cur]\n",
    "        elif cur == 'C' and (prev == 'D' or prev == 'M'):\n",
    "            num = num - char_to_int[cur]\n",
    "        else:\n",
    "            num = num + char_to_int[cur]\n",
    "\n",
    "        print(f\"-> {num}\")\n",
    "        prev = cur\n",
    "        \n",
    "    return num"
   ]
  },
  {
   "cell_type": "code",
   "execution_count": 49,
   "id": "3302cd31-0896-472b-b7a2-f278c4e883a9",
   "metadata": {},
   "outputs": [
    {
     "name": "stdout",
     "output_type": "stream",
     "text": [
      "MXCIV\n",
      "-> 5\n",
      "-> 4\n",
      "-> 104\n",
      "-> 94\n",
      "-> 1094\n"
     ]
    },
    {
     "data": {
      "text/plain": [
       "1094"
      ]
     },
     "execution_count": 49,
     "metadata": {},
     "output_type": "execute_result"
    }
   ],
   "source": [
    "romanToInt(s)"
   ]
  },
  {
   "cell_type": "markdown",
   "id": "f200b0d8-3aab-4721-9bfb-bac4928b2678",
   "metadata": {},
   "source": [
    "**Runtime: O(N)**\n",
    "<br> As the size of x increases (each additional character), my algorithm will perform the same computation again for every new character, therefore scaling linearly in runtime complexity.<br>\n",
    "**Memory O(1)**\n",
    "<br> As x increases in size (additional characters) no additional storage will need to be allocated beyond the int and cur/prev values created."
   ]
  },
  {
   "cell_type": "code",
   "execution_count": null,
   "id": "6dd3f464-1a46-4ca8-b951-63e8cbf83a2b",
   "metadata": {},
   "outputs": [],
   "source": []
  }
 ],
 "metadata": {
  "kernelspec": {
   "display_name": "Python 3 (ipykernel)",
   "language": "python",
   "name": "python3"
  },
  "language_info": {
   "codemirror_mode": {
    "name": "ipython",
    "version": 3
   },
   "file_extension": ".py",
   "mimetype": "text/x-python",
   "name": "python",
   "nbconvert_exporter": "python",
   "pygments_lexer": "ipython3",
   "version": "3.12.7"
  }
 },
 "nbformat": 4,
 "nbformat_minor": 5
}
