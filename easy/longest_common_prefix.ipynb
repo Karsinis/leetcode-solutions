{
 "cells": [
  {
   "cell_type": "markdown",
   "id": "cb1bd048-fb46-4708-a45c-d5e265f07729",
   "metadata": {},
   "source": [
    "# **Longest Common Prefix**"
   ]
  },
  {
   "cell_type": "markdown",
   "id": "647c51ac-314c-42de-a2a0-5d4c318a5648",
   "metadata": {},
   "source": [
    "Write a function to find the longest common prefix string amongst an array of strings.\n",
    "\n",
    "If there is no common prefix, return an empty string \"\"."
   ]
  },
  {
   "cell_type": "code",
   "execution_count": null,
   "id": "37ef717b-8a38-441a-aec5-8275e802700c",
   "metadata": {},
   "outputs": [],
   "source": []
  }
 ],
 "metadata": {
  "kernelspec": {
   "display_name": "Python 3 (ipykernel)",
   "language": "python",
   "name": "python3"
  },
  "language_info": {
   "codemirror_mode": {
    "name": "ipython",
    "version": 3
   },
   "file_extension": ".py",
   "mimetype": "text/x-python",
   "name": "python",
   "nbconvert_exporter": "python",
   "pygments_lexer": "ipython3",
   "version": "3.12.7"
  }
 },
 "nbformat": 4,
 "nbformat_minor": 5
}
