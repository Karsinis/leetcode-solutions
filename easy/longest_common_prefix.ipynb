{
 "cells": [
  {
   "cell_type": "markdown",
   "id": "cb1bd048-fb46-4708-a45c-d5e265f07729",
   "metadata": {},
   "source": [
    "# **Longest Common Prefix** (Easy)\n",
    "---"
   ]
  },
  {
   "cell_type": "markdown",
   "id": "647c51ac-314c-42de-a2a0-5d4c318a5648",
   "metadata": {},
   "source": [
    "## Problem Statement:\n",
    "\n",
    "Write a function to find the longest common prefix string amongst an (THE ENTIRE) array of strings.\n",
    "\n",
    "- If there is no common prefix, return an empty string \"\".\n",
    "\n",
    "[Longest Common Prefix on Leet Code](https://leetcode.com/problems/longest-common-prefix/description/)"
   ]
  },
  {
   "cell_type": "code",
   "execution_count": 1,
   "id": "37ef717b-8a38-441a-aec5-8275e802700c",
   "metadata": {},
   "outputs": [],
   "source": [
    "# Initialize Notebook\n",
    "from typing import List # LeetCode utilizes List type\n",
    "\n",
    "# Solution Inputs\n",
    "strs = [\"flower\",\"flow\",\"flight\"]\n",
    "\n",
    "# Solution to given inputs\n",
    "expected_solution = \"fl\""
   ]
  },
  {
   "cell_type": "markdown",
   "id": "b57c8c0d-5112-4975-beb2-27e484a4c371",
   "metadata": {},
   "source": [
    "## Initial Solution\n"
   ]
  },
  {
   "cell_type": "markdown",
   "id": "546c9478-f751-401c-9c0c-8359601e361b",
   "metadata": {},
   "source": [
    "### Check each string -> character in sequence\n",
    "\n",
    "My initial approach to this problem was to iterate (i) through the list of strings, comparing the current string to the next string in the list. I then iterate (j) through the characters in these strings and count how many match until they differ. This value is then compared to the the previous character comparison result done between the previous two strings in the list. I compare these values and store the smaller number (the shortest matching prefix found). Once this minimum value is found across the whole list of strings, I then return the shortest prefix string."
   ]
  },
  {
   "cell_type": "code",
   "execution_count": 2,
   "id": "33f82d9f-0356-4b16-87ba-032a9622bd53",
   "metadata": {},
   "outputs": [],
   "source": [
    "def longestCommonPrefix(strs: List[str]) -> str:\n",
    "    \n",
    "    if len(strs) == 1: # Check if only one string is in the list and return that string as the common prefix\n",
    "       return strs[0]\n",
    "        \n",
    "    prev = 0 # Initialize a 'previous' character comparison value to zero\n",
    "    for i in range(len(strs)-1): # Loop through the list of strings\n",
    "        \n",
    "        curr = 0 # Set current character comparison value to zero\n",
    "        for j in range(min(len(strs[i]),len(strs[i+1]))): # Compare the current string's characters to the next string's characters in the list, stop looping once the shorter string has been fully transversed\n",
    "            \n",
    "            if strs[i][j] == strs[i+1][j]: # Check the number of matching prefix characters between the two strings\n",
    "                curr+=1 # Save the number of similar characters they share\n",
    "            else:\n",
    "                break\n",
    "\n",
    "        if i != 0 and curr < prev: # If the two current strings being compared share a shorter common prefix than the two strings compared before them, save and continue search\n",
    "            prev = curr\n",
    "        elif i == 0:\n",
    "            prev = curr # Initialize the first common prefix search\n",
    "\n",
    "    return strs[0][:prev]"
   ]
  },
  {
   "cell_type": "code",
   "execution_count": 3,
   "id": "0d275589-3375-40b3-9cc0-598c2344692e",
   "metadata": {},
   "outputs": [
    {
     "data": {
      "text/plain": [
       "True"
      ]
     },
     "execution_count": 3,
     "metadata": {},
     "output_type": "execute_result"
    }
   ],
   "source": [
    "longestCommonPrefix(strs) == expected_solution"
   ]
  },
  {
   "cell_type": "markdown",
   "id": "17ebb930-810f-4c40-afee-079a5707a7a4",
   "metadata": {},
   "source": [
    "**Runtime: O(NlogN)**\n",
    "This interates through the length of strs from beginning to end and iterates through the characters in each string but not to completion.\n",
    "\n",
    "**Memory: O(1)**\n",
    "Only counter variables are initialized in this implementation"
   ]
  },
  {
   "cell_type": "markdown",
   "id": "79ea9786-a7f0-4789-9273-c861a549b5ce",
   "metadata": {},
   "source": [
    "<hr>"
   ]
  },
  {
   "cell_type": "markdown",
   "id": "aa46814b-f75d-4229-a65d-7378d8d4acfa",
   "metadata": {},
   "source": [
    "# **Analysis**"
   ]
  },
  {
   "cell_type": "markdown",
   "id": "4039ff01-2cbc-4cad-bb6e-3bb021ef1495",
   "metadata": {},
   "source": [
    "A much more elegant way to approach this problem while still using a double for loop, is to swap the objects that are being iterated. Instead of iterating through each string (i) then each character (j) in that string, it is faster to iterate over characters (i) then over the list of strings (j), checking along the way that all characters match at that index. If the characters do all match, then increment i (move to the next character) and compare over the list of strings again. The moment a character does not match amongst the strings at that location, the longest common prefix is given by the depth of i-1 indexed on any string in the list strs."
   ]
  },
  {
   "cell_type": "markdown",
   "id": "3dd970d3-2db9-4a1e-8b1e-7594841876c5",
   "metadata": {},
   "source": [
    "## Character Solution\n",
    "\n",
    "Iterate over the number of characters within the first element in strs and check that every other strings in strs shares its character values at each index until a mismatch is found."
   ]
  },
  {
   "cell_type": "code",
   "execution_count": 4,
   "id": "c9787d07-c107-4937-8cf9-ea8709007194",
   "metadata": {},
   "outputs": [],
   "source": [
    "def longestCommonPrefixChars(strs: List[str]) -> str:\n",
    "    runningMatch = 0\n",
    "    for i in range(len(strs[0])):\n",
    "        for j in range(len(strs)):\n",
    "            if i >= len(strs[j]) or strs[0][i] != strs[j][i]:\n",
    "                return strs[0][:i]\n",
    "        runningMatch = runningMatch + 1\n",
    "\n",
    "    return strs[0][:runningMatch]"
   ]
  },
  {
   "cell_type": "code",
   "execution_count": 5,
   "id": "b39cb31c-509a-456f-a9c4-b3718b2c1a42",
   "metadata": {},
   "outputs": [
    {
     "data": {
      "text/plain": [
       "True"
      ]
     },
     "execution_count": 5,
     "metadata": {},
     "output_type": "execute_result"
    }
   ],
   "source": [
    "longestCommonPrefixChars(strs) == expected_solution"
   ]
  },
  {
   "cell_type": "markdown",
   "id": "f28cf53e-0193-4720-9258-8722d4addb19",
   "metadata": {},
   "source": [
    "**Runtime: O(N)**\n",
    "This interates through the length of strs from beginning to end x times depending on the prefix length = x.\n",
    "\n",
    "**Memory: O(1)**\n",
    "Only counter variables are initialized in this implementation"
   ]
  },
  {
   "cell_type": "markdown",
   "id": "99834f7b-aff0-4e87-a686-20550743a313",
   "metadata": {},
   "source": [
    "## Folding Solution\n",
    "\n",
    "Another way to envision this problem is to compare the longest common prefix of a string with the string after it in the list. Once this intermediate prefix is found, use it in the next comparison when analyzing the following string in the sequence. The common prefix becomes a comparison of common prefixes until the minimum shared prefix is found. This is implemented below by defining a seperate helper function longestCommonPrefixBinary which returns the shared prefix of any two strings given to it. This is then applied over the whole list, folding the list down on itself from top to bottom as a comparison of a prefix (using our helper function) to the next string in the list."
   ]
  },
  {
   "cell_type": "code",
   "execution_count": 6,
   "id": "3404770e-f1b5-477f-83ac-dcccdc1d92f7",
   "metadata": {},
   "outputs": [],
   "source": [
    "def longestCommonPrefixBinary(strA, strB) -> str:\n",
    "    runningMatch = 0\n",
    "    length = min(len(strA),len(strB))\n",
    "    for i in range(length):\n",
    "        if strA[i] == strB[i]:\n",
    "            runningMatch+=1\n",
    "        else:\n",
    "            break\n",
    "\n",
    "    return strA[:runningMatch]"
   ]
  },
  {
   "cell_type": "code",
   "execution_count": 7,
   "id": "2012b1ca-98a9-4c0f-a3ef-6ddc4cc4a9db",
   "metadata": {},
   "outputs": [],
   "source": [
    "def longestCommonPrefixFolding(strs: List[str]) -> str:\n",
    "        length = len(strs)\n",
    "        if length == 1: # Check if only one string is in the list and return that string as the common prefix\n",
    "            return strs[0]\n",
    "\n",
    "        currentMatch = longestCommonPrefixBinary(strs[0], strs[1])\n",
    "        for i in range(2,length):\n",
    "            match = longestCommonPrefixBinary(currentMatch, strs[i])\n",
    "            if len(match) < len(currentMatch):\n",
    "                currentMatch = match\n",
    "        \n",
    "        return currentMatch"
   ]
  },
  {
   "cell_type": "code",
   "execution_count": 8,
   "id": "eb034d9a-3a17-444e-b881-14dcad06fbd1",
   "metadata": {},
   "outputs": [
    {
     "data": {
      "text/plain": [
       "True"
      ]
     },
     "execution_count": 8,
     "metadata": {},
     "output_type": "execute_result"
    }
   ],
   "source": [
    "longestCommonPrefixFolding(strs) == expected_solution"
   ]
  },
  {
   "cell_type": "markdown",
   "id": "ad321b20-0d79-4e86-bb0a-98133f13064f",
   "metadata": {},
   "source": [
    "**Runtime: O(N)**\n",
    "This interates through the length of strs from beginning to end once, but the helper function runs through each string to the depth of thier commonality, rather than just the common prefix depth.\n",
    "**Memory: O(1)**\n",
    "Counter variables are initialized in this implementation, but memory cost is greater than other solutions due to the use of strings."
   ]
  },
  {
   "cell_type": "markdown",
   "id": "5f5083f5-7ad0-4577-a6d4-e49bee0cc5a6",
   "metadata": {},
   "source": [
    "## Finding the longest common prefix (amongst any pair of strings)\n",
    "This is an attempt at a solution for an alternative problem: what if we want the longest common prefix not just over the whole array, but between any two strings."
   ]
  },
  {
   "cell_type": "code",
   "execution_count": 9,
   "id": "c55cf9c3-bc59-4ca6-bef8-95ba743c9e44",
   "metadata": {},
   "outputs": [],
   "source": [
    "def longestCommonPrefixAlternateCase(strs: List[str]) -> str:\n",
    "\n",
    "    chars = 0\n",
    "    index = 0\n",
    "    for i in range(len(strs)-1):\n",
    "        if strs[i][:chars] == strs[i+1][:chars]:\n",
    "            temp = 0\n",
    "            for j in range(min(len(strs[i]),len(strs[i+1]))):\n",
    "                if strs[i][:j] == strs[i+1][:j]:\n",
    "                    temp+=1\n",
    "                else:\n",
    "                    break\n",
    "            if temp > chars:\n",
    "                chars = temp-1\n",
    "                index = i\n",
    " \n",
    "    return strs[index][:chars]\n",
    "        "
   ]
  }
 ],
 "metadata": {
  "kernelspec": {
   "display_name": "Python 3 (ipykernel)",
   "language": "python",
   "name": "python3"
  },
  "language_info": {
   "codemirror_mode": {
    "name": "ipython",
    "version": 3
   },
   "file_extension": ".py",
   "mimetype": "text/x-python",
   "name": "python",
   "nbconvert_exporter": "python",
   "pygments_lexer": "ipython3",
   "version": "3.12.7"
  }
 },
 "nbformat": 4,
 "nbformat_minor": 5
}
