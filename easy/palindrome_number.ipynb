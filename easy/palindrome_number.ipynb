{
 "cells": [
  {
   "cell_type": "markdown",
   "id": "7d03915d-66be-4105-986a-dcf07571e26b",
   "metadata": {},
   "source": [
    "# **PALINDROME NUMBER**"
   ]
  },
  {
   "cell_type": "markdown",
   "id": "8c4f3a01-6643-44e9-acf7-a12cf8a054b1",
   "metadata": {},
   "source": [
    "Given an integer x, return true if x is a palindrome and false otherwise."
   ]
  },
  {
   "cell_type": "code",
   "execution_count": 1,
   "id": "743d4e64-bb6f-420a-9507-1cbe1a581dd5",
   "metadata": {},
   "outputs": [],
   "source": [
    "import math\n",
    "\n",
    "# Initialize Inputs\n",
    "x = 12321"
   ]
  },
  {
   "cell_type": "markdown",
   "id": "0d2ba97b-a3ae-47dc-9bb6-aee045efc15e",
   "metadata": {},
   "source": [
    "## My Initial Solution"
   ]
  },
  {
   "cell_type": "markdown",
   "id": "406f6729-4e63-403a-9c23-43ae64684003",
   "metadata": {},
   "source": [
    "My initial solution was actually very efficient. I wanted to avoid converting x into a string in order to perform comparisions, and came up with a mathematical method for extracting the individual decimal values of x into an list using modulus. Once the list of ints comprising x was created (vals) I compared this list to its reverse in order to determine its symmetry."
   ]
  },
  {
   "cell_type": "code",
   "execution_count": 2,
   "id": "8f044723-4e1d-4265-8fa2-e67105535eff",
   "metadata": {},
   "outputs": [],
   "source": [
    "def isPalindrome(x: int) -> bool:\n",
    "    vals = []\n",
    "    if x >= 0: # If x=0, then vals will remain empty and by default the reverse will match\n",
    "    \n",
    "        while x > 0:\n",
    "            print(x)\n",
    "            vals.append(x % 10) # Peel integers off of x from right to left and add them to a list of vals\n",
    "            x = math.floor(x/10)\n",
    "\n",
    "        print(vals)\n",
    "        vals_reverse = vals[::-1]\n",
    "    \n",
    "        if vals == vals_reverse:\n",
    "            return True\n",
    "            \n",
    "    return False"
   ]
  },
  {
   "cell_type": "code",
   "execution_count": 3,
   "id": "255742e3-8b56-4c18-9194-fcf87bfbfbec",
   "metadata": {},
   "outputs": [
    {
     "name": "stdout",
     "output_type": "stream",
     "text": [
      "12321\n",
      "1232\n",
      "123\n",
      "12\n",
      "1\n",
      "[1, 2, 3, 2, 1]\n"
     ]
    },
    {
     "data": {
      "text/plain": [
       "True"
      ]
     },
     "execution_count": 3,
     "metadata": {},
     "output_type": "execute_result"
    }
   ],
   "source": [
    "isPalindrome(x)"
   ]
  },
  {
   "cell_type": "markdown",
   "id": "b585fc4a-12fc-4441-bde5-7983685c5708",
   "metadata": {},
   "source": [
    "**Runtime: O(Log(N))**\n",
    "<br> As the size of x increases, my algorithm will perform additional computations for every factor of 10 increase in the int x.\n",
    "\n",
    "**Memory(Log(N))**\n",
    "<br> As x increases in size by powers of 10, my list to track its digits will increase in size correspondingly"
   ]
  },
  {
   "cell_type": "markdown",
   "id": "f2273a93-423d-411e-91fa-99f276b5b2e3",
   "metadata": {},
   "source": [
    "## My Solution utilizing Pointers"
   ]
  },
  {
   "cell_type": "markdown",
   "id": "997be65c-8f46-4f57-bc5f-3415b7cea8a6",
   "metadata": {},
   "source": [
    "I had the thought that the runtime efficiency could be imporived if instead of reversing my entire list of values, I instead used pointers and looked at the beginning and end of the array for any values that do not match. The first time a mismatch is found, false is returned. This way the entire list does not have to be searched every time, only for actual palindromes will the the pointers traverse the entire list. However, my runtime efficiency decreased as well as my storage efficiency."
   ]
  },
  {
   "cell_type": "code",
   "execution_count": 4,
   "id": "961a197f-ea9c-4090-875f-e21c8c735eb8",
   "metadata": {},
   "outputs": [],
   "source": [
    "def isPalindrome2(x: int) -> bool:\n",
    "    if x < 0: # Check x is positive\n",
    "        return False\n",
    "    if x == 0: # Explicitly check the case if x is zero\n",
    "        return True\n",
    "\n",
    "    vals = []\n",
    "    while x > 0:\n",
    "        vals.append(x % 10) # Peel integers off of x from right to left and add them to a list of vals\n",
    "        x = math.floor(x/10)\n",
    "\n",
    "    print(vals)\n",
    "    \n",
    "    i,j = 0, len(vals)-1 # Create a pointer at the beginning and the end of our list\n",
    "    while j > i: # Move pointers towards the center of the number, checking for symmetry along the way\n",
    "        print(f\"vals[i] = {vals[i]}, i = {i}\")\n",
    "        print(f\"vals[j] = {vals[j]}, j = {j}\")\n",
    "        if vals[i] != vals[j]:\n",
    "            return False\n",
    "        i+=1\n",
    "        j-=1\n",
    "            \n",
    "    return True"
   ]
  },
  {
   "cell_type": "code",
   "execution_count": 5,
   "id": "ec7e885a-4acc-44b6-9f58-c3415e06d86b",
   "metadata": {
    "scrolled": true
   },
   "outputs": [
    {
     "name": "stdout",
     "output_type": "stream",
     "text": [
      "[1, 2, 3, 2, 1]\n",
      "vals[i] = 1, i = 0\n",
      "vals[j] = 1, j = 4\n",
      "vals[i] = 2, i = 1\n",
      "vals[j] = 2, j = 3\n"
     ]
    },
    {
     "data": {
      "text/plain": [
       "True"
      ]
     },
     "execution_count": 5,
     "metadata": {},
     "output_type": "execute_result"
    }
   ],
   "source": [
    "isPalindrome2(x)"
   ]
  },
  {
   "cell_type": "markdown",
   "id": "1e33a889-8dbf-4899-9c28-de9a5ad49782",
   "metadata": {},
   "source": [
    "According to leetcode, this version of the code runs slower and takes more memory than my initial solution.<br><br>\n",
    "**Runtime: O(Log(N))**\n",
    "<br> As the size of x increases, my algorithm will perform additional computations for every factor of 10 increase in the int x.\n",
    "\n",
    "**Memory(Log(N))**\n",
    "<br> As x increases in size by powers of 10, my list to track its digits will increase in size correspondingly\n"
   ]
  },
  {
   "cell_type": "markdown",
   "id": "a4ef22c1-80ef-48ee-a1ff-a5aa959898e0",
   "metadata": {},
   "source": [
    "## No Lists Method"
   ]
  },
  {
   "cell_type": "markdown",
   "id": "5684e895-0bf8-4aa7-aa8b-0bf4affa41cf",
   "metadata": {},
   "source": [
    "This is a method I thought up that seems like it would improve storage efficiency. I works by relying solely on ints rather than creating a list the length of the digits present in x and using mathematical principles to isolate and compare the digits of x starting from right and left working inwards. "
   ]
  },
  {
   "cell_type": "code",
   "execution_count": 6,
   "id": "5b667829-0645-40d3-9bed-cf7cd5d01f71",
   "metadata": {},
   "outputs": [],
   "source": [
    "def isPalindrome3(x: int) -> bool:\n",
    "    if x >= 0: # If x is negative, it cannot be a palindrome\n",
    "        \n",
    "        length = math.floor(math.log10(x)) + 1 if x != 0 else 1 # determine number of digits, x=0 will throw a domain error for log()\n",
    "        \n",
    "        if length == 1: # Single digit values are automatically palindromes\n",
    "            return True\n",
    "            \n",
    "        reverse_x = 0 # Initialize an int to construct the reverse of x\n",
    "        temp_x = x\n",
    "        for i in range(length):\n",
    "            remainder = temp_x % 10 # Peel off digits from the right\n",
    "            print(remainder)\n",
    "            temp_x = math.floor(temp_x/10)\n",
    "\n",
    "            reverse_x = reverse_x + remainder*(10**(length-i-1)) # Construct reverse_x from left to right\n",
    "            \n",
    "        print(reverse_x)\n",
    "        if x == reverse_x:\n",
    "            return True\n",
    "\n",
    "    return False"
   ]
  },
  {
   "cell_type": "code",
   "execution_count": 7,
   "id": "bc3ce482-369e-4843-8983-29da2a900687",
   "metadata": {},
   "outputs": [
    {
     "name": "stdout",
     "output_type": "stream",
     "text": [
      "1\n",
      "2\n",
      "3\n",
      "2\n",
      "1\n",
      "12321\n"
     ]
    },
    {
     "data": {
      "text/plain": [
       "True"
      ]
     },
     "execution_count": 7,
     "metadata": {},
     "output_type": "execute_result"
    }
   ],
   "source": [
    "isPalindrome3(x)"
   ]
  },
  {
   "cell_type": "markdown",
   "id": "d9045956-7295-42ce-aa4c-ae579ad11c36",
   "metadata": {},
   "source": [
    "**Runtime: O(Log(N))**\n",
    "<br> As the size of x increases, my algorithm will perform additional computations for every factor of 10 increase in the int x. Runtime is not as efficient as my first solution, and still slower than my second, though the complexity is still the same.\n",
    "\n",
    "**Memory O(1)**\n",
    "<br> This solution only uses integers to store values therefore it has constant storage requirements as x increases in digit size. However it doesn't seem to stack up very well against other solutions on leet code, and overall my initial solution seems the best overall by far despite its O(Log(N)) storgae complexity"
   ]
  },
  {
   "cell_type": "markdown",
   "id": "58e713e5-b876-418a-ba24-e6b947eb62eb",
   "metadata": {},
   "source": [
    "## Ideal Non-String Solution"
   ]
  },
  {
   "cell_type": "markdown",
   "id": "e5554e54-676a-413b-97c8-53437dc22391",
   "metadata": {},
   "source": [
    "This is a very efficient (non-string) solution I found after doing some research. It works by solely using integer manipulation and comparison, therefore storage complexity is constant. Also, it builds a reverse of x only to the midpoint of the value, since any further computation is technically redundant. This reduces runtime significantly over my other solutions that traversed and compared every digit of x - though the overall complexity still scales O(Log(N)). This solution also checks and handles edge cases before the main logic is run, and specifically looks for multiples of 10 since any number ending in zero(s) cannot be a palindrome."
   ]
  },
  {
   "cell_type": "code",
   "execution_count": 15,
   "id": "2ffc4e2c-6c67-421c-90f0-f6a6222aea69",
   "metadata": {},
   "outputs": [],
   "source": [
    "def isPalindromeIdeal(x: int) -> bool:\n",
    "    if x < 0 or (x % 10 == 0 and x != 0):  \n",
    "        return False  # Negative numbers and multiples of 10 (except 0) are not palindromes\n",
    "\n",
    "    reversed_half = 0\n",
    "    while x > reversed_half:\n",
    "        reversed_half = reversed_half * 10 + x % 10  # Build reversed half\n",
    "        x = x // 10  # Remove last digit\n",
    "\n",
    "    print(x)\n",
    "    print(reversed_half)\n",
    "    \n",
    "    return x == reversed_half or x == reversed_half // 10  # Handle odd-length numbers"
   ]
  },
  {
   "cell_type": "code",
   "execution_count": 16,
   "id": "9914802c-5224-44c7-8d48-9c854b6f08a8",
   "metadata": {},
   "outputs": [
    {
     "name": "stdout",
     "output_type": "stream",
     "text": [
      "1232\n",
      "123\n",
      "12\n",
      "12\n",
      "123\n"
     ]
    },
    {
     "data": {
      "text/plain": [
       "True"
      ]
     },
     "execution_count": 16,
     "metadata": {},
     "output_type": "execute_result"
    }
   ],
   "source": [
    "isPalindromeIdeal(x)"
   ]
  },
  {
   "cell_type": "markdown",
   "id": "780fca3b-26bf-4175-ac48-f57539634f4c",
   "metadata": {},
   "source": [
    "**Runtime: O(Log(N))**\n",
    "<br> As the size of x increases, this algorithm will perform additional computations for every factor of 10 increase in the int x, though technically faster than the other solutions since we are only computing digits half the size of the overall number of digits.\n",
    "\n",
    "**Memory O(1)**\n",
    "<br> This solution only uses integers to store values therefore it has constant storage requirements as x increases in digit size, in fact it only uses one new int and modifies the existing x for this solution. Very efficient."
   ]
  },
  {
   "cell_type": "markdown",
   "id": "ca4b41b0-9d18-4784-a26d-dd6a11e24653",
   "metadata": {},
   "source": [
    "# **ANALYSIS**"
   ]
  },
  {
   "cell_type": "markdown",
   "id": "b3a7d990-a13c-4d06-beb3-2bd5f99ae4be",
   "metadata": {},
   "source": [
    "## Syntax Improvements and Convention"
   ]
  },
  {
   "cell_type": "markdown",
   "id": "57ee5744-87ef-42a0-9964-12b2935c46df",
   "metadata": {},
   "source": [
    "In this example; <br><br>\n",
    "\n",
    "**temp_x = math.floor(temp_x/10)** and **temp_x = temp_x // 10** are equivalent.<br><br>\n",
    "\n",
    "I should not use the floor function here but instead use integer division // which will return an int by definition as is a much cleaner way of performing the same operation."
   ]
  },
  {
   "cell_type": "markdown",
   "id": "7df66d26-5519-47f1-b524-63cf6afc3084",
   "metadata": {},
   "source": [
    "## Using a String"
   ]
  },
  {
   "cell_type": "markdown",
   "id": "1914ba8a-b9d6-4ae0-9dcb-baf35918b93b",
   "metadata": {},
   "source": [
    "This is also a very efficient way to solve this problem, but if the numbers start getting large it can be cumbersome in memory to store the int as a string."
   ]
  },
  {
   "cell_type": "code",
   "execution_count": 17,
   "id": "d565d488-5cd5-43dd-8fa0-dca7c5de42c0",
   "metadata": {},
   "outputs": [],
   "source": [
    "def isPalindromeString(x: int) -> bool:\n",
    "    return str(x) == str(x)[::-1]"
   ]
  },
  {
   "cell_type": "code",
   "execution_count": null,
   "id": "20e8ab89-75c3-42d8-a836-8528ff39f0fd",
   "metadata": {},
   "outputs": [],
   "source": []
  }
 ],
 "metadata": {
  "kernelspec": {
   "display_name": "Python 3 (ipykernel)",
   "language": "python",
   "name": "python3"
  },
  "language_info": {
   "codemirror_mode": {
    "name": "ipython",
    "version": 3
   },
   "file_extension": ".py",
   "mimetype": "text/x-python",
   "name": "python",
   "nbconvert_exporter": "python",
   "pygments_lexer": "ipython3",
   "version": "3.12.7"
  }
 },
 "nbformat": 4,
 "nbformat_minor": 5
}
