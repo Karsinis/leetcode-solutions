{
 "cells": [
  {
   "cell_type": "markdown",
   "id": "02ac8306-1478-4040-9e7f-fa3fc662b05c",
   "metadata": {},
   "source": [
    "# **Best Time to Buy and Sell Stock II** (Easy)\n",
    "---"
   ]
  },
  {
   "cell_type": "markdown",
   "id": "6463196f-7439-406a-a026-47d5d15dd350",
   "metadata": {},
   "source": [
    "## Problem Statement:\n",
    "\n",
    "You are given an integer array prices where prices[i] is the price of a given stock on the ith day.\n",
    "\n",
    "- On each day, you may decide to buy and/or sell the stock. You can only hold at most one share of the stock at any time. However, you can buy it then immediately sell it on the same day.\n",
    "\n",
    "- Find and return the maximum profit you can achieve.\n",
    "\n",
    "[Buy and Sell Stock II on LeetCode](https://leetcode.com/problems/best-time-to-buy-and-sell-stock-ii/)"
   ]
  },
  {
   "cell_type": "code",
   "execution_count": 10,
   "id": "289afebf-70b5-44dd-a7f0-fdbb1f4c98eb",
   "metadata": {},
   "outputs": [],
   "source": [
    "# Initialize Notebook\n",
    "from typing import List # LeetCode utilizes List type\n",
    "\n",
    "# Inputs\n",
    "prices = [7,1,5,3,6,4]\n",
    "\n",
    "# Solution to given inputs\n",
    "expected_solution = 7"
   ]
  },
  {
   "cell_type": "markdown",
   "id": "f64e8ece-acf0-4c2e-99e5-a6b1df782d18",
   "metadata": {},
   "source": [
    "## Initial Solution"
   ]
  },
  {
   "cell_type": "markdown",
   "id": "46476318-10f2-4987-aa24-91c882f4887f",
   "metadata": {},
   "source": [
    "### Local Maximum and Minimum\n",
    "\n",
    "This intent of this solution (which I never finished implementing) was to iterate through the array prices to locate the first minimum price, storing that value as 'bought' stock. From that location, the next local maximum in prices to occur is detected and stored as a sell price (checking first to see we have stock to sell). Once there is a sell price we compute profit and add it to the total profit from our transactions. We then continue the cycle and look for a minimum then maximum price, buying and selling until the array of prices is fully traversed. This implementation is cumbersome and requires many more steps than is necessary if one posseses a full understanding of the mathematics of the problem (as explained in the analysis section)."
   ]
  },
  {
   "cell_type": "code",
   "execution_count": 8,
   "id": "80b3484a-f33c-4699-b1f4-f55f6ec27421",
   "metadata": {},
   "outputs": [],
   "source": [
    "def maxProfit(prices: List[int]) -> int:\n",
    "    \n",
    "    profit = 0\n",
    "    sell = 0\n",
    "    buy = 0\n",
    "    holding_stock = False\n",
    "    \n",
    "    for i in range(len(prices)-1):\n",
    "        \n",
    "        if prices[i] < prices[i+1]:\n",
    "            sell = prices[i]\n",
    "            holding_stock = True\n",
    "            \n",
    "        if holding_stock == True and prices[i] > prices[i+1]:\n",
    "            buy = prices[i+1]\n",
    "            profit = profit + (sell - buy)\n",
    "            \n",
    "    return profit"
   ]
  },
  {
   "cell_type": "code",
   "execution_count": 12,
   "id": "85817d93-9f44-4423-aa80-11aa9d0636d5",
   "metadata": {},
   "outputs": [
    {
     "data": {
      "text/plain": [
       "False"
      ]
     },
     "execution_count": 12,
     "metadata": {},
     "output_type": "execute_result"
    }
   ],
   "source": [
    "maxProfit(prices) == expected_solution"
   ]
  },
  {
   "cell_type": "markdown",
   "id": "bf5f57cf-e3a2-46d9-ab0b-aa67df7d9230",
   "metadata": {},
   "source": [
    "## Analysis"
   ]
  },
  {
   "cell_type": "code",
   "execution_count": null,
   "id": "37b319e1-83e3-40f1-984e-04deb05ef225",
   "metadata": {},
   "outputs": [],
   "source": []
  }
 ],
 "metadata": {
  "kernelspec": {
   "display_name": "Python 3 (ipykernel)",
   "language": "python",
   "name": "python3"
  },
  "language_info": {
   "codemirror_mode": {
    "name": "ipython",
    "version": 3
   },
   "file_extension": ".py",
   "mimetype": "text/x-python",
   "name": "python",
   "nbconvert_exporter": "python",
   "pygments_lexer": "ipython3",
   "version": "3.12.7"
  }
 },
 "nbformat": 4,
 "nbformat_minor": 5
}
